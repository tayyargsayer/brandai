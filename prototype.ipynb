{
 "cells": [
  {
   "cell_type": "code",
   "execution_count": 1,
   "id": "initial_id",
   "metadata": {
    "collapsed": true,
    "ExecuteTime": {
     "end_time": "2024-03-01T13:24:04.187790Z",
     "start_time": "2024-03-01T13:24:03.151723Z"
    }
   },
   "outputs": [],
   "source": [
    "import pandas as pd"
   ]
  },
  {
   "cell_type": "code",
   "outputs": [],
   "source": [
    "df = pd.read_excel('data/yellowbook_backhoe-loaders_26-02-2024.xlsx')"
   ],
   "metadata": {
    "collapsed": false,
    "ExecuteTime": {
     "end_time": "2024-03-01T13:24:51.120944Z",
     "start_time": "2024-03-01T13:24:50.648839Z"
    }
   },
   "id": "bd7de3cdc259c41a",
   "execution_count": 3
  },
  {
   "cell_type": "code",
   "outputs": [
    {
     "data": {
      "text/plain": "  Manufacturer      Model Maximum Operating Weight (kg)  \\\n0         BEML   BL9H 4x2                         7,600   \n1         BEML   BL9H 4x4                         7,700   \n2         Bull  HD100 4WD                         8,200   \n3         Bull   HD76 2WD                         7,850   \n4         Bull   HD76 4WD                         7,850   \n\n  Drive & Steering (#WDx#WS)  Engine Power (kW)  \\\n0                        2WD               57.0   \n1                        4WD               72.0   \n2                        4WD               74.5   \n3                        2WD               56.7   \n4                        4WD               56.7   \n\n  Standard Front Bucket Capacity (m³) Standard Back Bucket Capacity (m³)  \\\n0                                   1                               0.24   \n1                                   1                               0.24   \n2                                 1.1                               0.27   \n3                                 1.1                               0.27   \n4                                 1.1                               0.27   \n\n  Maximum Load Height (m) Maximum Dig Depth / Dredging Depth (m)  \\\n0                       -                                   4.59   \n1                       -                                   4.59   \n2                    2.96                                   4.60   \n3                    3.39                                   4.60   \n4                    2.93                                   4.60   \n\n  Dig Force @ Bucket / Front Loader (kN) Dig Force @ Back Bucket (kN)  \\\n0                                   57.8                         54.5   \n1                                   57.8                         54.5   \n2                                  86.23                         67.1   \n3                                  80.25                         59.5   \n4                                  80.25                        59.53   \n\n  Maximum Travel Speed (km/h) Power Source Factory Location Engine Supplier  \\\n0                          36       Diesel                -            KOEL   \n1                          36       Diesel                -            BEML   \n2                          40       Diesel                -         Perkins   \n3                          41       Diesel                -       Kirloskar   \n4                          41       Diesel                -       Kirloskar   \n\n  Regional Availability  Compare     Machine Type  \n0                 India      NaN  backhoe-loaders  \n1                 India      NaN  backhoe-loaders  \n2                 India      NaN  backhoe-loaders  \n3                 India      NaN  backhoe-loaders  \n4                 India      NaN  backhoe-loaders  ",
      "text/html": "<div>\n<style scoped>\n    .dataframe tbody tr th:only-of-type {\n        vertical-align: middle;\n    }\n\n    .dataframe tbody tr th {\n        vertical-align: top;\n    }\n\n    .dataframe thead th {\n        text-align: right;\n    }\n</style>\n<table border=\"1\" class=\"dataframe\">\n  <thead>\n    <tr style=\"text-align: right;\">\n      <th></th>\n      <th>Manufacturer</th>\n      <th>Model</th>\n      <th>Maximum Operating Weight (kg)</th>\n      <th>Drive &amp; Steering (#WDx#WS)</th>\n      <th>Engine Power (kW)</th>\n      <th>Standard Front Bucket Capacity (m³)</th>\n      <th>Standard Back Bucket Capacity (m³)</th>\n      <th>Maximum Load Height (m)</th>\n      <th>Maximum Dig Depth / Dredging Depth (m)</th>\n      <th>Dig Force @ Bucket / Front Loader (kN)</th>\n      <th>Dig Force @ Back Bucket (kN)</th>\n      <th>Maximum Travel Speed (km/h)</th>\n      <th>Power Source</th>\n      <th>Factory Location</th>\n      <th>Engine Supplier</th>\n      <th>Regional Availability</th>\n      <th>Compare</th>\n      <th>Machine Type</th>\n    </tr>\n  </thead>\n  <tbody>\n    <tr>\n      <th>0</th>\n      <td>BEML</td>\n      <td>BL9H 4x2</td>\n      <td>7,600</td>\n      <td>2WD</td>\n      <td>57.0</td>\n      <td>1</td>\n      <td>0.24</td>\n      <td>-</td>\n      <td>4.59</td>\n      <td>57.8</td>\n      <td>54.5</td>\n      <td>36</td>\n      <td>Diesel</td>\n      <td>-</td>\n      <td>KOEL</td>\n      <td>India</td>\n      <td>NaN</td>\n      <td>backhoe-loaders</td>\n    </tr>\n    <tr>\n      <th>1</th>\n      <td>BEML</td>\n      <td>BL9H 4x4</td>\n      <td>7,700</td>\n      <td>4WD</td>\n      <td>72.0</td>\n      <td>1</td>\n      <td>0.24</td>\n      <td>-</td>\n      <td>4.59</td>\n      <td>57.8</td>\n      <td>54.5</td>\n      <td>36</td>\n      <td>Diesel</td>\n      <td>-</td>\n      <td>BEML</td>\n      <td>India</td>\n      <td>NaN</td>\n      <td>backhoe-loaders</td>\n    </tr>\n    <tr>\n      <th>2</th>\n      <td>Bull</td>\n      <td>HD100 4WD</td>\n      <td>8,200</td>\n      <td>4WD</td>\n      <td>74.5</td>\n      <td>1.1</td>\n      <td>0.27</td>\n      <td>2.96</td>\n      <td>4.60</td>\n      <td>86.23</td>\n      <td>67.1</td>\n      <td>40</td>\n      <td>Diesel</td>\n      <td>-</td>\n      <td>Perkins</td>\n      <td>India</td>\n      <td>NaN</td>\n      <td>backhoe-loaders</td>\n    </tr>\n    <tr>\n      <th>3</th>\n      <td>Bull</td>\n      <td>HD76 2WD</td>\n      <td>7,850</td>\n      <td>2WD</td>\n      <td>56.7</td>\n      <td>1.1</td>\n      <td>0.27</td>\n      <td>3.39</td>\n      <td>4.60</td>\n      <td>80.25</td>\n      <td>59.5</td>\n      <td>41</td>\n      <td>Diesel</td>\n      <td>-</td>\n      <td>Kirloskar</td>\n      <td>India</td>\n      <td>NaN</td>\n      <td>backhoe-loaders</td>\n    </tr>\n    <tr>\n      <th>4</th>\n      <td>Bull</td>\n      <td>HD76 4WD</td>\n      <td>7,850</td>\n      <td>4WD</td>\n      <td>56.7</td>\n      <td>1.1</td>\n      <td>0.27</td>\n      <td>2.93</td>\n      <td>4.60</td>\n      <td>80.25</td>\n      <td>59.53</td>\n      <td>41</td>\n      <td>Diesel</td>\n      <td>-</td>\n      <td>Kirloskar</td>\n      <td>India</td>\n      <td>NaN</td>\n      <td>backhoe-loaders</td>\n    </tr>\n  </tbody>\n</table>\n</div>"
     },
     "execution_count": 4,
     "metadata": {},
     "output_type": "execute_result"
    }
   ],
   "source": [
    "df.head()"
   ],
   "metadata": {
    "collapsed": false,
    "ExecuteTime": {
     "end_time": "2024-03-01T13:24:54.530638Z",
     "start_time": "2024-03-01T13:24:54.509932Z"
    }
   },
   "id": "8863d8fdfc094d31",
   "execution_count": 4
  },
  {
   "cell_type": "code",
   "outputs": [
    {
     "data": {
      "text/plain": "array(['BEML', 'Bull', 'Case', 'Caterpillar', 'Changlin', 'Cukurova',\n       'Escorts Kubota', 'Hidromek', 'Huddig', 'Hydrema', 'JCB',\n       'John Deere Construction', 'Komatsu', 'Lännen', 'Mecalac',\n       'New Holland', 'Powerplus', 'Rhino Equipment', 'SDLG', 'Shantui',\n       'Venieri', 'XCMG'], dtype=object)"
     },
     "execution_count": 5,
     "metadata": {},
     "output_type": "execute_result"
    }
   ],
   "source": [
    "df['Manufacturer'].unique()"
   ],
   "metadata": {
    "collapsed": false,
    "ExecuteTime": {
     "end_time": "2024-03-01T13:25:48.914282Z",
     "start_time": "2024-03-01T13:25:48.904759Z"
    }
   },
   "id": "17d6dfb59d73b34c",
   "execution_count": 5
  },
  {
   "cell_type": "code",
   "outputs": [
    {
     "data": {
      "text/plain": "Index(['Manufacturer', 'Model', 'Maximum Operating Weight (kg)',\n       'Drive & Steering (#WDx#WS)', 'Engine Power (kW)',\n       'Standard Front Bucket Capacity (m³)',\n       'Standard Back Bucket Capacity (m³)', 'Maximum Load Height (m)',\n       'Maximum Dig Depth / Dredging Depth (m)',\n       'Dig Force @ Bucket / Front Loader (kN)',\n       'Dig Force @ Back Bucket (kN)', 'Maximum Travel Speed (km/h)',\n       'Power Source', 'Factory Location', 'Engine Supplier',\n       'Regional Availability', 'Compare', 'Machine Type'],\n      dtype='object')"
     },
     "execution_count": 7,
     "metadata": {},
     "output_type": "execute_result"
    }
   ],
   "source": [
    "df.columns"
   ],
   "metadata": {
    "collapsed": false,
    "ExecuteTime": {
     "end_time": "2024-03-01T13:28:26.635158Z",
     "start_time": "2024-03-01T13:28:26.630218Z"
    }
   },
   "id": "9d196880d27ce155",
   "execution_count": 7
  },
  {
   "cell_type": "code",
   "outputs": [],
   "source": [],
   "metadata": {
    "collapsed": false
   },
   "id": "9831348aba1ddf64"
  }
 ],
 "metadata": {
  "kernelspec": {
   "display_name": "Python 3",
   "language": "python",
   "name": "python3"
  },
  "language_info": {
   "codemirror_mode": {
    "name": "ipython",
    "version": 2
   },
   "file_extension": ".py",
   "mimetype": "text/x-python",
   "name": "python",
   "nbconvert_exporter": "python",
   "pygments_lexer": "ipython2",
   "version": "2.7.6"
  }
 },
 "nbformat": 4,
 "nbformat_minor": 5
}
