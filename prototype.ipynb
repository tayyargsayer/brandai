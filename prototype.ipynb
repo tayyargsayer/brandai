{
 "cells": [
  {
   "cell_type": "code",
   "outputs": [],
   "source": [
    "import os\n",
    "from pathlib import Path\n",
    "\n",
    "import google.generativeai as genai\n",
    "from PIL import Image\n",
    "from dotenv import load_dotenv\n",
    "\n",
    "load_dotenv()\n",
    "\n",
    "os.getenv(\"GOOGLE_API_KEY\")\n",
    "genai.configure(api_key=os.getenv(\"GOOGLE_API_KEY\"))\n",
    "\n",
    "generation_config = {\n",
    "    \"temperature\": 0.1,\n",
    "    \"top_p\": 0.90,\n",
    "    \"max_output_tokens\": 2048,\n",
    "}\n",
    "\n",
    "safety_settings = [\n",
    "    {\n",
    "        \"category\": \"HARM_CATEGORY_HARASSMENT\",\n",
    "        \"threshold\": \"BLOCK_MEDIUM_AND_ABOVE\"\n",
    "    },\n",
    "    {\n",
    "        \"category\": \"HARM_CATEGORY_HATE_SPEECH\",\n",
    "        \"threshold\": \"BLOCK_MEDIUM_AND_ABOVE\"\n",
    "    },\n",
    "    {\n",
    "        \"category\": \"HARM_CATEGORY_SEXUALLY_EXPLICIT\",\n",
    "        \"threshold\": \"BLOCK_MEDIUM_AND_ABOVE\"\n",
    "    },\n",
    "    {\n",
    "        \"category\": \"HARM_CATEGORY_DANGEROUS_CONTENT\",\n",
    "        \"threshold\": \"BLOCK_MEDIUM_AND_ABOVE\"\n",
    "    },\n",
    "]\n",
    "model = genai.GenerativeModel(model_name=\"gemini-1.0-pro-vision-latest\",\n",
    "                              generation_config=generation_config,\n",
    "                              safety_settings=safety_settings)\n"
   ],
   "metadata": {
    "collapsed": false,
    "ExecuteTime": {
     "end_time": "2024-03-20T21:10:56.916558Z",
     "start_time": "2024-03-20T21:10:56.895558Z"
    }
   },
   "id": "746268eeae45c29c",
   "execution_count": 3
  },
  {
   "cell_type": "code",
   "outputs": [],
   "source": [
    "def get_gemini_repsonse(prompt, original_image):\n",
    "    model = genai.GenerativeModel(model_name=\"gemini-1.0-pro-vision-latest\",\n",
    "                                  generation_config=generation_config,\n",
    "                                  safety_settings=safety_settings)\n",
    "\n",
    "    response = model.generate_content([prompt, original_image])\n",
    "    return response.text"
   ],
   "metadata": {
    "collapsed": false,
    "ExecuteTime": {
     "end_time": "2024-03-20T21:11:20.822677Z",
     "start_time": "2024-03-20T21:11:20.816942Z"
    }
   },
   "id": "a8008c7411d7aef7",
   "execution_count": 4
  },
  {
   "cell_type": "code",
   "outputs": [],
   "source": [
    "\n",
    "def takemura(filenames, uploaded_file, product_details):\n",
    "\n",
    "            webp_path = os.path.splitext(img_path)[0] + '.webp'\n",
    "            img.save(webp_path, 'webp')\n",
    "\n",
    "    # Now your images are in webp format and you can read them into your program\n",
    "    original_image_parts = [{\"mime_type\": \"image/webp\",\n",
    "                             \"data\": uploaded_file.read()}]  # Use read method instead of read_bytes\n",
    "\n",
    "    # Now your images are in webp format and you can read them into your program\n",
    "    image_parts = [{\"mime_type\": \"image/webp\",\n",
    "                    \"data\": Path(f\"{os.path.splitext(os.path.join(directory, f))[0]}.webp\").read_bytes()} for f in\n",
    "                   filenames if os.path.isfile(f\"{os.path.splitext(os.path.join(directory, f))[0]}.webp\")]\n",
    "\n",
    "    prompt_parts = [original_image_parts[0],\n",
    "                    f\"\"\",\n",
    "        I want you to ınspect the file above and compare it with product images with below. While doing that, please follow these steps:\n",
    "            1- For ranking similarity, the order of criteria importance should be orderly {product_details}. If the first criteria is not enough to rank, then the second criteria should be used and so on.\n",
    "            2- While giving output, give the original filenames please cause i don't understand when you say \\\"first image, second image\\\" etc.\n",
    "            3- Results should only have direct filenames from {filenames} which similar 5 product image to original image like text below:\n",
    "                    >>(image_name).jpg\n",
    "                    >>(image_name).jpg.\n",
    "                    .....\n",
    "            4- The results should only include the top 5 products that are most similar to the original product image from the provided list of product images.\",\n",
    "        \"\"\"\n",
    "                    ]\n",
    "\n",
    "    for i in range(1, 6):\n",
    "        prompt_parts.append(image_parts[i])\n",
    "        prompt_parts.append(\" \")\n",
    "\n",
    "    response = model.generate_content(prompt_parts)\n",
    "    print(response.text)\n",
    "\n",
    "\n",
    "    cleaned_response = \"\\n\".join(line.lstrip('>>').strip() if line.startswith('>>') else line for line in response.text.split('\\n'))\n",
    "    cleaned_response = \"\\n\".join(line[-22:] for line in cleaned_response.split('\\n'))\n",
    "\n",
    "    return cleaned_response\n"
   ],
   "metadata": {
    "collapsed": false
   },
   "id": "1b43ede67722b453"
  }
 ],
 "metadata": {
  "kernelspec": {
   "display_name": "Python 3",
   "language": "python",
   "name": "python3"
  },
  "language_info": {
   "codemirror_mode": {
    "name": "ipython",
    "version": 2
   },
   "file_extension": ".py",
   "mimetype": "text/x-python",
   "name": "python",
   "nbconvert_exporter": "python",
   "pygments_lexer": "ipython2",
   "version": "2.7.6"
  }
 },
 "nbformat": 4,
 "nbformat_minor": 5
}
